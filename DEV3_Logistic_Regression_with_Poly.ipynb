{
  "nbformat": 4,
  "nbformat_minor": 0,
  "metadata": {
    "colab": {
      "private_outputs": true,
      "provenance": [],
      "collapsed_sections": [],
      "include_colab_link": true
    },
    "kernelspec": {
      "name": "python3",
      "display_name": "Python 3"
    }
  },
  "cells": [
    {
      "cell_type": "markdown",
      "metadata": {
        "id": "view-in-github",
        "colab_type": "text"
      },
      "source": [
        "<a href=\"https://colab.research.google.com/github/aist2000/ML-public/blob/master/DEV3_Logistic_Regression_with_Poly.ipynb\" target=\"_parent\"><img src=\"https://colab.research.google.com/assets/colab-badge.svg\" alt=\"Open In Colab\"/></a>"
      ]
    },
    {
      "cell_type": "markdown",
      "metadata": {
        "id": "oCv3DQ67PXvE"
      },
      "source": [
        "# Electric BUS"
      ]
    },
    {
      "cell_type": "code",
      "metadata": {
        "id": "7DXEJJ7QPZId"
      },
      "source": [
        "import matplotlib.pyplot as plt\n",
        "import numpy as np\n",
        "import pandas as pd\n",
        "import array as arr\n",
        "from sklearn import datasets, linear_model, metrics\n"
      ],
      "execution_count": null,
      "outputs": []
    },
    {
      "cell_type": "code",
      "metadata": {
        "id": "TyerQEzJGOgz"
      },
      "source": [
        "#url=\"https://github.com/aist2000/ML/blob/master/elec.csv\"\n",
        "#url=\"https://raw.githubusercontent.com/aist2000/ml-test/master/elec.csv\"\n",
        "url=\"https://raw.githubusercontent.com/aist2000/ML-public/master/elec-mod1.csv\"\n",
        "#url=\"elec-mod1.csv\"\n",
        "df = pd.read_csv(url, skiprows=0)\n",
        "df.head()"
      ],
      "execution_count": null,
      "outputs": []
    },
    {
      "cell_type": "code",
      "metadata": {
        "id": "3PKHyoFXQYuo"
      },
      "source": [
        "df.describe()"
      ],
      "execution_count": null,
      "outputs": []
    },
    {
      "cell_type": "code",
      "metadata": {
        "id": "MC-e8G-cC8Pw"
      },
      "source": [
        "X = df[df.columns[0:4]]\n",
        "y = df[['Status']]\n",
        "\n",
        "#X=X.rename(columns={0:'X1',1:'X2', 2:'X3', 3:'X4', 4:'label'})\n",
        "y=y.rename(columns={'Status':'label'})\n",
        "print(X.head())\n",
        "print(y.head())\n"
      ],
      "execution_count": null,
      "outputs": []
    },
    {
      "cell_type": "code",
      "source": [
        "from sklearn.model_selection import train_test_split\n",
        "X_train, X_test, y_train, y_test = train_test_split(X, y, test_size=0.2, random_state=0)\n"
      ],
      "metadata": {
        "id": "9EyDteMHZsW8"
      },
      "execution_count": null,
      "outputs": []
    },
    {
      "cell_type": "code",
      "metadata": {
        "id": "gz9KvIdg4dsb"
      },
      "source": [
        "pos=X_train[y_train.label == True]\n",
        "neg=X_train[y_train.label==False]\n",
        "print(pos.head())\n",
        "print(neg.head())"
      ],
      "execution_count": null,
      "outputs": []
    },
    {
      "cell_type": "code",
      "source": [
        "pos.index[0]"
      ],
      "metadata": {
        "id": "Yzq-v4jpXxyF"
      },
      "execution_count": null,
      "outputs": []
    },
    {
      "cell_type": "markdown",
      "metadata": {
        "id": "4-Lvz6OvVCAq"
      },
      "source": [
        "**Scilearn Logistic Regression**"
      ]
    },
    {
      "cell_type": "code",
      "metadata": {
        "id": "jqSsTc5UXLwZ"
      },
      "source": [
        "# Linear Boundary\n",
        "from sklearn.linear_model import LogisticRegression\n",
        "\n",
        "# instantiate the model (using the default parameters)\n",
        "#model = LogisticRegression(solver=\"liblinear\")\n",
        "model = LogisticRegression(max_iter =400, solver='lbfgs')\n",
        "\n",
        "# fit the model with data\n",
        "#yr=y_train.to_numpy().reshape(-1)\n",
        "\n",
        "model.fit(X_train.values, y_train.label)\n",
        "\n",
        "print(model.coef_, model.intercept_)\n"
      ],
      "execution_count": null,
      "outputs": []
    },
    {
      "cell_type": "markdown",
      "metadata": {
        "id": "QT110dDdvk0K"
      },
      "source": [
        "**Predictions by SciLearn**"
      ]
    },
    {
      "cell_type": "code",
      "metadata": {
        "id": "RVeV7E61OSJ8"
      },
      "source": [
        "# Chart\n",
        "ser1 = plt.scatter(df..circuit1,pos.circuit2, color='green', marker='o', linewidth='1', label='True')\n",
        "ser2 = plt.scatter(neg.circuit1,neg.circuit2, color=\"red\", marker='o', edgecolor='black', linewidth='1', label='False')\n",
        "\n",
        "plt.xlabel('Circuit 1')\n",
        "plt.ylabel('Circuit 2')\n",
        "\n",
        "a = model.intercept_[0]\n",
        "b = model.coef_[0][0]\n",
        "c= model.coef_[0][1]\n",
        "#c = model.coef_[1]\n",
        "\n",
        "# plot decision boundary\n",
        "\n",
        "# getting the x co-ordinates of the decision boundary\n",
        "plot_x = np.array([min(X_train.circuit1) - 0.2, max(X_train.circuit1) + 0.2])\n",
        "# getting corresponding y co-ordinates of the decision boundary\n",
        "plot_y = (-1/c) * (b * plot_x + a)\n",
        "\n",
        "\n",
        "# Plotting the Single Line Decision Boundary\n",
        "plt.plot(plot_x, plot_y, label = \"Decision_Boundary\")\n",
        "\n",
        "\n",
        "plt.title('Data set')\n",
        "\n",
        "plt.axis([-10, 15, -10, 15])\n",
        "\n",
        "plt.legend(loc='upper right')\n",
        "plt.show()\n",
        "\n"
      ],
      "execution_count": null,
      "outputs": []
    },
    {
      "cell_type": "code",
      "metadata": {
        "id": "IeM5qQfcn4wv"
      },
      "source": [
        "x_t= [1.5,\t0,\t0.295,\t-180]\n",
        "\n",
        "\n",
        "pred1= model.predict( np.array(x_t, ndmin=4) )\n",
        "proba1= model.predict_proba( np.array(x_t, ndmin=4) )\n",
        "print(\"For parameters = {}, we predict {} proba={}\".format(x_t, pred1, proba1[:,1]))\n",
        "\n",
        "\n",
        "model_accuracy=model.score(X_train,  y.label)\n",
        "\n",
        "\n",
        "y_pred= model.predict( X_train)\n",
        "\n",
        "calc_accuracy =  sum(y_pred == y.label) /  y.label.count()\n",
        "\n",
        "print(\"Model Accuracy {} ; Calculated Accuracy={}\".format(model_accuracy, calc_accuracy) )\n"
      ],
      "execution_count": null,
      "outputs": []
    },
    {
      "cell_type": "markdown",
      "metadata": {
        "id": "mRSWrlxpEDYu"
      },
      "source": [
        "# Polynomial Features"
      ]
    },
    {
      "cell_type": "code",
      "metadata": {
        "id": "d-s_CmVXDcy0"
      },
      "source": [
        "# Polynomial Boundary\n",
        "# import the class\n",
        "import matplotlib.pyplot as pltp\n",
        "from sklearn.linear_model import LogisticRegression\n",
        "from sklearn.preprocessing import PolynomialFeatures\n",
        "\n",
        "# apply Regularization C=1\n",
        "\n",
        "model = LogisticRegression(max_iter =400, solver='lbfgs', C= 1 )\n",
        "\n",
        "poly = PolynomialFeatures(degree = 3,interaction_only=False, include_bias=False)\n",
        "\n",
        "# make a continuous grid of values \n",
        "# and evaluate the probability of each (x, y) point in the grid:\n",
        "xx, yy = np.mgrid[-10:15:0.1, -10:15:0.1]     \n",
        "\n",
        "grid = np.c_[xx.ravel(), yy.ravel()]\n",
        "\n",
        "\n",
        "X_train_poly= poly.fit_transform(X_train)\n",
        "\n",
        "model.fit( X_train_poly, y_train.label)\n",
        "\n",
        "model.coef_, model.intercept_\n",
        "\n",
        "grid_poly= poly.fit_transform(grid)\n",
        "\n",
        "probs = model.predict_proba(grid_poly)[:, 1].reshape(xx.shape)\n",
        "\n",
        "\n"
      ],
      "execution_count": null,
      "outputs": []
    },
    {
      "cell_type": "code",
      "metadata": {
        "id": "PqxLJd46p_EH"
      },
      "source": [
        "# Create chart\n",
        "#fig, ax= pltp.plot(figsize=(20,10)).subplots()\n",
        "fig, ax= pltp.subplots()\n",
        "\n",
        "\n",
        "ser1p = ax.scatter(pos.circuit1,pos.circuit2, color='green', marker='o', linewidth='1', label='True')\n",
        "ser2p = ax.scatter(neg.circuit1,neg.circuit2, color=\"red\", marker='o', edgecolor='black', linewidth='1', label='False')\n",
        "\n",
        "\n",
        "#CS =ax.contour(xx, yy, probs, levels=[.5], colors='green')\n",
        "#CS.collections[0].set_label('Decision Boundary 0.5')\n",
        "\n",
        "CS =ax.contour(xx, yy, probs, levels=[.95], colors='blue')\n",
        "CS.collections[0].set_label('Decision Boundary 0.95')\n",
        "\n",
        "#CS =ax.contour(xx, yy, probs, levels=[.05], colors='blue')\n",
        "#CS.collections[0].set_label('Decision Boundary 0.05')\n",
        "\n",
        "\n",
        "pltp.xlabel(\"circuit1\")\n",
        "pltp.ylabel(\"circuit2\")\n",
        "\n",
        "pltp.legend(loc='upper right')\n",
        "\n",
        "pltp.axis([-10, 15, -10, 15])\n",
        "\n",
        "\n",
        "pltp.show()\n"
      ],
      "execution_count": null,
      "outputs": []
    },
    {
      "cell_type": "markdown",
      "metadata": {
        "id": "i-EtI6xOE642"
      },
      "source": [
        "Polynomial Boundary"
      ]
    },
    {
      "cell_type": "code",
      "metadata": {
        "id": "jeHIExUnUlGJ"
      },
      "source": [
        "x1val= [[0, 5],[0,0], [13,2]]\n",
        "\n",
        "#x1val = [[0,.5],[-.5,-.5]]\n",
        "x1=  poly.fit_transform(x1val)\n",
        "\n",
        "pred1= model.predict( x1)\n",
        "proba1= model.predict_proba( x1)\n",
        "print(\"For parameters = {}, we predict {} proba={}\".format(x1val, pred1, proba1[:,1]))\n",
        "\n",
        "\n",
        "model_accuracy=model.score(X_train_poly,  y.label)\n",
        "\n",
        "\n",
        "y_pred= model.predict( X_train_poly)\n",
        "\n",
        "calc_accuracy =  sum(y_pred == y.label) /  y.label.count()\n",
        "\n",
        "print(\"\\nModel Accuracy {} ; Calculated Accuracy={}\\n\\n\".format(model_accuracy, calc_accuracy) )\n",
        "\n",
        "\n",
        "\n",
        "\n"
      ],
      "execution_count": null,
      "outputs": []
    }
  ]
}